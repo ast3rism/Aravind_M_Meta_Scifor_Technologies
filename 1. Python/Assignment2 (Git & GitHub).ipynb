{
  "nbformat": 4,
  "nbformat_minor": 0,
  "metadata": {
    "colab": {
      "provenance": []
    },
    "kernelspec": {
      "name": "python3",
      "display_name": "Python 3"
    },
    "language_info": {
      "name": "python"
    }
  },
  "cells": [
    {
      "cell_type": "markdown",
      "source": [
        "> # **Git & GitHub**\n",
        "\n",
        "**Git:** Git is a Version Control System (VCS) which allows programmers to keep track of changes, revert to previous versions and colaborate with others efficiently.\n",
        "\n",
        "<br>\n",
        "\n",
        "**How Git works:**\n",
        "\n",
        "* Local Repository: You create a local copy of your project, where Git stores snapshots of your code at different points in time, called commits.\n",
        "\n",
        "* Commits: Each commit contains a unique identifier (hash), a timestamp, and a message describing the changes made.\n",
        "\n",
        "* Branches: You can create multiple branches to work on different features or bug fixes simultaneously.\n",
        "\n",
        "* Merging: Once your changes are ready, you can merge them back into the main branch (or another branch)."
      ],
      "metadata": {
        "id": "ndsve4iI7zDN"
      }
    },
    {
      "cell_type": "markdown",
      "source": [
        "<br>\n",
        "<br>"
      ],
      "metadata": {
        "id": "C_38J_sO_ftM"
      }
    },
    {
      "cell_type": "markdown",
      "source": [
        "**GitHub:** GitHub is a web-based platform that uses Git to host and manage software development projects. It provides a user-friendly interface and some advanced features on top of Git.\n",
        "\n",
        "<br>\n",
        "\n",
        "**How GitHub works:**\n",
        "\n",
        "* Creating a Repository: A repository is like a digital folder that stores your project's files. You create a repository on GitHub, giving it a name and a brief description.\n",
        "\n",
        "* Cloning the Repository: To start working on the project, you clone the repository to your local machine. This creates a copy of the repository on your computer.\n",
        "\n",
        "* Making Changes: You can now edit files, add new files, or delete existing ones within your local copy.\n",
        "\n",
        "* Committing Changes: Committing is the process of saving your changes. You can think of it as taking a snapshot of your project at a specific point in time.\n",
        "Each commit has a unique identifier, a timestamp, and a message describing the changes made.\n",
        "\n",
        "* Pushing Changes to GitHub: Once you're satisfied with your changes, you push them to the remote repository on GitHub. This updates the online version of your project with your latest changes.\n",
        "\n",
        "* Collaborating with Others: Branches: You can create different branches to work on specific features or bug fixes independently.\n",
        "\n",
        "* Pull Requests: When you're done with a feature or bug fix, you create a pull request to merge your changes into the main branch.\n",
        "\n",
        "* Code Review: Other developers can review your changes, suggest improvements, and provide feedback.\n",
        "\n",
        "* Merging: Once your changes are approved, they are merged into the main branch."
      ],
      "metadata": {
        "id": "Dw4oWXwe-Vqe"
      }
    },
    {
      "cell_type": "markdown",
      "source": [
        "<br>"
      ],
      "metadata": {
        "id": "HI2d-bgZBjMQ"
      }
    },
    {
      "cell_type": "markdown",
      "source": [
        "\n",
        "\n",
        "---\n",
        "\n"
      ],
      "metadata": {
        "id": "0zYSwdkcBgbe"
      }
    },
    {
      "cell_type": "markdown",
      "source": [
        "## Repository Initialization and Configuration"
      ],
      "metadata": {
        "id": "Ge-fZralBifv"
      }
    },
    {
      "cell_type": "code",
      "source": [
        "git init                                      # Initializes a new Git repository in the current directory.\n",
        "git clone [url]                               # Clones an existing Git repository from a remote URL.\n",
        "git config [--global] user_name \"[Name]\"      # Sets the user's name for Git commits.\n",
        "git config [--global] user_email \"[Email]\"    # Sets the user's email address for Git"
      ],
      "metadata": {
        "id": "cMOTv7NF_xCL"
      },
      "execution_count": null,
      "outputs": []
    },
    {
      "cell_type": "markdown",
      "source": [
        "<br>\n",
        "\n",
        "## Basic Operations"
      ],
      "metadata": {
        "id": "Dp-D80eJAahe"
      }
    },
    {
      "cell_type": "code",
      "source": [
        "git add [file/directory]                      # Adds changes to the staging area.\n",
        "git commit -m \"[message]\"                     # Commits changes from the staging area to the local repository.\n",
        "git status                                    # Shows the current state of the working directory and staging area.\n",
        "git diff                                      # Shows the difference between commits, files, or the working directory and the staging area.\n",
        "git log                                       # Shows the commit history.\n",
        "git show [commit-hash]                        # Shows detailed information about a specific commit."
      ],
      "metadata": {
        "id": "1XQe0kCsACmP"
      },
      "execution_count": null,
      "outputs": []
    },
    {
      "cell_type": "markdown",
      "source": [
        "<br>\n",
        "\n",
        "## Branching and Merging"
      ],
      "metadata": {
        "id": "DfiknsJrAdkw"
      }
    },
    {
      "cell_type": "code",
      "source": [
        "git branch                                    # Lists all local branches.\n",
        "git branch [branch-name]                      # Creates a new branch.\n",
        "git checkout [branch-name]                    # Switches to a specific branch.\n",
        "git merge [branch-name]                       # Merges the specified branch into the current branch.\n",
        "git rebase [branch-name]                      # Rebases the current branch onto the specified branch."
      ],
      "metadata": {
        "id": "sBKrFNocAZwn"
      },
      "execution_count": null,
      "outputs": []
    },
    {
      "cell_type": "markdown",
      "source": [
        "<br>\n",
        "\n",
        "## Remote Repositories"
      ],
      "metadata": {
        "id": "XKnuT_UXArdE"
      }
    },
    {
      "cell_type": "code",
      "source": [
        "git remote -v                                 # Lists remote repositories.\n",
        "git remote add [alias] [url]                  # Adds a remote repository.\n",
        "git fetch [remote]                            # Fetches changes from a remote repository.\n",
        "git pull [remote] [branch]                    # Fetches and merges changes from a remote repository.\n",
        "git push [remote] [branch]                    # Pushes local changes to a remote repository."
      ],
      "metadata": {
        "id": "EBlfWHw9AshW"
      },
      "execution_count": null,
      "outputs": []
    },
    {
      "cell_type": "markdown",
      "source": [
        "<br>\n",
        "\n",
        "## Undoing Changes"
      ],
      "metadata": {
        "id": "dxaFcfy8BFZK"
      }
    },
    {
      "cell_type": "code",
      "source": [
        "git reset --hard [commit-hash]                # Resets the current HEAD to a specific commit, discarding all changes.\n",
        "git revert [commit-hash]                      # Creates a new commit that reverts the changes of a specific commit.\n",
        "git checkout -- [file]                        # Discards changes to a specific file."
      ],
      "metadata": {
        "id": "PxhaXrx_BGZy"
      },
      "execution_count": null,
      "outputs": []
    },
    {
      "cell_type": "markdown",
      "source": [
        "<br>\n",
        "\n",
        "## Additional Commands"
      ],
      "metadata": {
        "id": "VyuFzO_CBO3x"
      }
    },
    {
      "cell_type": "code",
      "source": [
        "git stash                                    # Temporarily saves changes to the working directory.\n",
        "git tag [tag-name]                           # Creates a tag to mark a specific commit.\n",
        "git cherry-pick [commit-hash]                # Applies the changes of a specific commit to the current branch.\n",
        "git bisect                                   # Helps find the commit that introduced a bug."
      ],
      "metadata": {
        "id": "C8CLD6zyBP9i"
      },
      "execution_count": null,
      "outputs": []
    }
  ]
}