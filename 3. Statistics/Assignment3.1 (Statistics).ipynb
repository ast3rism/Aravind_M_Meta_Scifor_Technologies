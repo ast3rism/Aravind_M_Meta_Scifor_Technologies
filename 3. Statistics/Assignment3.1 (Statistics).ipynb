{
  "nbformat": 4,
  "nbformat_minor": 0,
  "metadata": {
    "colab": {
      "provenance": []
    },
    "kernelspec": {
      "name": "python3",
      "display_name": "Python 3"
    },
    "language_info": {
      "name": "python"
    }
  },
  "cells": [
    {
      "cell_type": "markdown",
      "source": [
        "# **1. Descriptive Statistics**\n"
      ],
      "metadata": {
        "id": "YINFt2Aw9oF9"
      }
    },
    {
      "cell_type": "markdown",
      "source": [
        "Descriptive statistics is a branch of statistics involving summarizing and describing the main features of a collection of data. It helps to understand the data better by providing insights into its trends, tendency, dispersion, and shape.\n",
        "\n",
        "### **Key Measures in Descriptive Statistics**\n",
        "\n",
        "**I. Measures of Central Tendency:**\n",
        "\n",
        "* **Mean:** The average of a dataset.\n",
        "* **Median:** The middle value when the data is sorted.\n",
        "* **Mode:** The most frequent value in the dataset.\n",
        "\n",
        "**II. Measures of Dispersion:**\n",
        "\n",
        "* **Range:** The difference between the maximum and minimum values.\n",
        "* **Variance:** The average squared deviation from the mean.\n",
        "* **Standard Deviation:** The square root of the variance.\n",
        "* **Interquartile Range (IQR):** The range of the middle 50% of the data."
      ],
      "metadata": {
        "id": "02WgTqDa97AR"
      }
    },
    {
      "cell_type": "code",
      "execution_count": 1,
      "metadata": {
        "colab": {
          "base_uri": "https://localhost:8080/",
          "height": 680
        },
        "id": "wYl_X3bd9ilr",
        "outputId": "f27b78e2-1d4f-4652-f868-c419bf9d6412"
      },
      "outputs": [
        {
          "output_type": "stream",
          "name": "stdout",
          "text": [
            "             Age        Salary\n",
            "count   8.000000      8.000000\n",
            "mean   32.500000  37500.000000\n",
            "std     7.329003   7329.003051\n",
            "min    22.000000  28000.000000\n",
            "25%    27.250000  31500.000000\n",
            "50%    32.500000  37500.000000\n",
            "75%    38.500000  42750.000000\n",
            "max    42.000000  48000.000000\n",
            "Mean Age: 32.5\n",
            "Median Salary: 37500.0\n",
            "Standard Deviation of Salary: 7329.003050503235\n"
          ]
        },
        {
          "output_type": "display_data",
          "data": {
            "text/plain": [
              "<Figure size 640x480 with 1 Axes>"
            ],
            "image/png": "[encoded data removed]"
          },
          "metadata": {}
        }
      ],
      "source": [
        "import pandas as pd\n",
        "import numpy as np\n",
        "import matplotlib.pyplot as plt\n",
        "import seaborn as sns\n",
        "\n",
        "# Sample data\n",
        "data = {'Age': [25, 30, 22, 28, 35, 40, 42, 38],\n",
        "        'Salary': [30000, 35000, 28000, 32000, 40000, 45000, 48000, 42000]}\n",
        "\n",
        "# DataFrame\n",
        "df = pd.DataFrame(data)\n",
        "\n",
        "# basic descriptive statistics\n",
        "print(df.describe())\n",
        "\n",
        "# specific measures\n",
        "print(\"Mean Age:\", df['Age'].mean())\n",
        "print(\"Median Salary:\", df['Salary'].median())\n",
        "print(\"Standard Deviation of Salary:\", df['Salary'].std())\n",
        "\n",
        "sns.histplot(df['Age'], kde=True)\n",
        "plt.title('Distribution of Age')\n",
        "plt.show()"
      ]
    },
    {
      "cell_type": "markdown",
      "source": [
        "\n",
        "\n",
        "---\n",
        "\n"
      ],
      "metadata": {
        "id": "yJ4_lSChE1sS"
      }
    },
    {
      "cell_type": "markdown",
      "source": [
        "# **2. Inferential Statistics**"
      ],
      "metadata": {
        "id": "oriP8BZP_UF4"
      }
    },
    {
      "cell_type": "markdown",
      "source": [
        "Inferential statistics is a branch of statistics that involves drawing conclusions about a population based on the sample data. Unlike descriptive statistics, which mainly summarizes data, inferential statistics on the other hand allows to make inferences or predictions about a larger population.\n",
        "\n",
        "### **Key Concepts in Inferential Statistics**\n",
        "\n",
        "* Population: The entire group of individuals or objects of interest.\n",
        "* Sample: A subset of the population selected for study.\n",
        "* Parameter: A numerical characteristic of a population (e.g., population mean, population standard deviation).\n",
        "* Statistic: A numerical characteristic of a sample (e.g., sample mean, sample standard deviation).\n",
        "* Inference: A conclusion drawn about a population based on a sample.\n",
        "Common Inferential Statistical Techniques:\n",
        "\n",
        "### **Hypothesis Testing**\n",
        "\n",
        "* Null Hypothesis (H₀): A statement of no effect or no difference.\n",
        "* Alternative Hypothesis (H₁): A statement that contradicts the null hypothesis.\n",
        "Test Statistic: A numerical value calculated from sample data to test the null hypothesis.\n",
        "* P-value: The probability of observing a test statistic as extreme as the one calculated, assuming the null hypothesis is true.\n",
        "* Significance Level (α): The threshold for rejecting the null hypothesis."
      ],
      "metadata": {
        "id": "nGL2acPO_5NG"
      }
    },
    {
      "cell_type": "code",
      "source": [
        "import scipy.stats as stats\n",
        "import numpy as np\n",
        "\n",
        "# data of two groups\n",
        "group1 = np.array([10, 12, 14, 15, 13])\n",
        "group2 = np.array([8, 9, 11, 10, 12])\n",
        "\n",
        "print(\"Group 1: \", group1)\n",
        "print(\"Group 2: \", group2)\n",
        "\n",
        "# two-sample t-test\n",
        "t_stat, p_value = stats.ttest_ind(group1, group2)\n",
        "\n",
        "print(\"t-statistic:\", t_stat)\n",
        "print(\"p-value:\", p_value)\n",
        "\n",
        "# significance level\n",
        "alpha = 0.05\n",
        "\n",
        "# comparing p-value to alpha to make decision\n",
        "if p_value < alpha:\n",
        "    print(\"\\nNull hypothesis Rejected. Difference between the two groups is significant.\")\n",
        "else:\n",
        "    print(\"\\nNull hypothesis is accepted.Difference between the two groups is not significant.\")"
      ],
      "metadata": {
        "colab": {
          "base_uri": "https://localhost:8080/"
        },
        "id": "XP2FleCKArMP",
        "outputId": "82532b70-d7f1-4cb8-b1ab-de88099b2381"
      },
      "execution_count": 3,
      "outputs": [
        {
          "output_type": "stream",
          "name": "stdout",
          "text": [
            "Group 1:  [10 12 14 15 13]\n",
            "Group 2:  [ 8  9 11 10 12]\n",
            "t-statistic: 2.514474228374849\n",
            "p-value: 0.0361183129071552\n",
            "\n",
            "Null hypothesis Rejected. Difference between the two groups is significant.\n"
          ]
        }
      ]
    },
    {
      "cell_type": "markdown",
      "source": [
        "\n",
        "\n",
        "---\n",
        "\n"
      ],
      "metadata": {
        "id": "jHL-bte3E4-Z"
      }
    },
    {
      "cell_type": "markdown",
      "source": [
        "# **3. Probability & Frequency Distribution**"
      ],
      "metadata": {
        "id": "4mWGr5ufBaOH"
      }
    },
    {
      "cell_type": "markdown",
      "source": [
        "### **Probability**\n",
        "\n",
        "Probability is a measure of the likelihood of an event occurring. It's a number between 0 and 1, where 0 indicates impossibility and 1 indicates certainty. Closer the value is to 0, the lesser liklihood of the event occuring, meanwhile closer the value is to 1, the more likely that the event shall occur.\n",
        "\n",
        "### **Types of Probability**\n",
        "\n",
        "* **Theoretical Probability:** Based on mathematical reasoning and logical analysis.\n",
        "* **Experimental Probability:** Determined by conducting experiments and observing outcomes.\n",
        "\n",
        "<br>\n",
        "\n",
        "### **Frequency Distribution**\n",
        "\n",
        "Frequency Distribution is the tabular representation of data that shows how often a value occurs in the dataset. It helps with visualising the distribution of data and to identify patterns.\n",
        "\n",
        "### **Types of Frequency Distribution**\n",
        "\n",
        "* **Ungrouped Frequency Distribution:** Each data value is listed separately with its corresponding frequency.\n",
        "* **Grouped Frequency Distribution:** Data is divided into classes or intervals, and the frequency of each class is recorded."
      ],
      "metadata": {
        "id": "NKq3V4zSBp2y"
      }
    },
    {
      "cell_type": "code",
      "source": [
        "import numpy as np\n",
        "import matplotlib.pyplot as plt\n",
        "import seaborn as sns\n",
        "\n",
        "# Sample data\n",
        "data = [2, 3, 4, 2, 3, 4, 5, 2, 3, 4, 5, 6]\n",
        "\n",
        "# frequency of each value\n",
        "unique_values, counts = np.unique(data, return_counts=True)\n",
        "\n",
        "# frequency distribution table\n",
        "freq_dist = pd.DataFrame({'Value': unique_values, 'Frequency': counts})\n",
        "print(\"\\n\",freq_dist)\n",
        "\n",
        "# probability of each value\n",
        "probabilities = counts / len(data)\n",
        "freq_dist['Probability'] = probabilities\n",
        "print(freq_dist)\n",
        "\n",
        "# frequency distribution\n",
        "sns.countplot(x=data)\n",
        "plt.title('Frequency Distribution')\n",
        "plt.show()"
      ],
      "metadata": {
        "colab": {
          "base_uri": "https://localhost:8080/",
          "height": 678
        },
        "id": "YTY0-FR9CzjX",
        "outputId": "04a2b4ad-c8cf-487c-f924-eb1c19e3ef4b"
      },
      "execution_count": 5,
      "outputs": [
        {
          "output_type": "stream",
          "name": "stdout",
          "text": [
            "\n",
            "    Value  Frequency\n",
            "0      2          3\n",
            "1      3          3\n",
            "2      4          3\n",
            "3      5          2\n",
            "4      6          1\n",
            "   Value  Frequency  Probability\n",
            "0      2          3     0.250000\n",
            "1      3          3     0.250000\n",
            "2      4          3     0.250000\n",
            "3      5          2     0.166667\n",
            "4      6          1     0.083333\n"
          ]
        },
        {
          "output_type": "display_data",
          "data": {
            "text/plain": [
              "<Figure size 640x480 with 1 Axes>"
            ],
            "image/png": "[encoded data removed]"
          },
          "metadata": {}
        }
      ]
    }
  ]
}